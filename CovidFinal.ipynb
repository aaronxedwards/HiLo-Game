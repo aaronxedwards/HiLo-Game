{
  "cells": [
    {
      "cell_type": "markdown",
      "metadata": {
        "id": "view-in-github",
        "colab_type": "text"
      },
      "source": [
        "<a href=\"https://colab.research.google.com/github/aaronxedwards/HiLo-Game/blob/master/CovidFinal.ipynb\" target=\"_parent\"><img src=\"https://colab.research.google.com/assets/colab-badge.svg\" alt=\"Open In Colab\"/></a>"
      ]
    },
    {
      "cell_type": "code",
      "execution_count": 259,
      "metadata": {
        "id": "m3SjuTdcmlkT"
      },
      "outputs": [],
      "source": [
        "#Covid Analysis and Visualisation\n",
        "#Author : Austin Chandler\n",
        "#An analytical and visualization project using \n",
        "#some portion of the data for counties, prisons, or universities\n",
        "\n"
      ]
    },
    {
      "cell_type": "code",
      "execution_count": 260,
      "metadata": {
        "colab": {
          "base_uri": "https://localhost:8080/"
        },
        "id": "NOtdXv7Lm2zF",
        "outputId": "644ec73a-1c06-4b05-e16b-6c111da03dfa"
      },
      "outputs": [
        {
          "output_type": "stream",
          "name": "stdout",
          "text": [
            "curl: Remote file name has no length!\n",
            "curl: try 'curl --help' or 'curl --manual' for more information\n"
          ]
        }
      ],
      "source": [
        "#libraries needed \n",
        "import pandas as pd\n",
        "import numpy as np\n",
        "import matplotlib.pyplot as plt\n",
        "import seaborn as sns\n",
        "%matplotlib inline\n",
        "\n",
        "!curl -O https://www.kaggle.com/datasets/imdevskp/corona-virus-report/\n"
      ]
    },
    {
      "cell_type": "code",
      "source": [
        "df = pd.read_csv(\"full_grouped.csv\")"
      ],
      "metadata": {
        "id": "AeAgNT9EOqLC"
      },
      "execution_count": 261,
      "outputs": []
    },
    {
      "cell_type": "code",
      "execution_count": 262,
      "metadata": {
        "id": "kxRewRvKufQB"
      },
      "outputs": [],
      "source": [
        "#Clean up data for analysis/assign to variable for visualisation\n",
        "country = df[\"Country/Region\"]\n",
        "confirmed = df[\"Confirmed\"]\n",
        "deaths = df[\"Deaths\"]"
      ]
    },
    {
      "cell_type": "code",
      "execution_count": 263,
      "metadata": {
        "colab": {
          "base_uri": "https://localhost:8080/",
          "height": 206
        },
        "id": "EqANDQkBufHK",
        "outputId": "0fbba368-b903-4fe7-80ce-e32a5f65651b"
      },
      "outputs": [
        {
          "output_type": "execute_result",
          "data": {
            "text/plain": [
              "           Country/Region  Confirmed  Deaths\n",
              "35151  West Bank and Gaza      10621      78\n",
              "35152      Western Sahara         10       1\n",
              "35153               Yemen       1691     483\n",
              "35154              Zambia       4552     140\n",
              "35155            Zimbabwe       2704      36"
            ],
            "text/html": [
              "\n",
              "  <div id=\"df-1471f48f-e00e-4965-89b9-ebf69a9b5b3a\">\n",
              "    <div class=\"colab-df-container\">\n",
              "      <div>\n",
              "<style scoped>\n",
              "    .dataframe tbody tr th:only-of-type {\n",
              "        vertical-align: middle;\n",
              "    }\n",
              "\n",
              "    .dataframe tbody tr th {\n",
              "        vertical-align: top;\n",
              "    }\n",
              "\n",
              "    .dataframe thead th {\n",
              "        text-align: right;\n",
              "    }\n",
              "</style>\n",
              "<table border=\"1\" class=\"dataframe\">\n",
              "  <thead>\n",
              "    <tr style=\"text-align: right;\">\n",
              "      <th></th>\n",
              "      <th>Country/Region</th>\n",
              "      <th>Confirmed</th>\n",
              "      <th>Deaths</th>\n",
              "    </tr>\n",
              "  </thead>\n",
              "  <tbody>\n",
              "    <tr>\n",
              "      <th>35151</th>\n",
              "      <td>West Bank and Gaza</td>\n",
              "      <td>10621</td>\n",
              "      <td>78</td>\n",
              "    </tr>\n",
              "    <tr>\n",
              "      <th>35152</th>\n",
              "      <td>Western Sahara</td>\n",
              "      <td>10</td>\n",
              "      <td>1</td>\n",
              "    </tr>\n",
              "    <tr>\n",
              "      <th>35153</th>\n",
              "      <td>Yemen</td>\n",
              "      <td>1691</td>\n",
              "      <td>483</td>\n",
              "    </tr>\n",
              "    <tr>\n",
              "      <th>35154</th>\n",
              "      <td>Zambia</td>\n",
              "      <td>4552</td>\n",
              "      <td>140</td>\n",
              "    </tr>\n",
              "    <tr>\n",
              "      <th>35155</th>\n",
              "      <td>Zimbabwe</td>\n",
              "      <td>2704</td>\n",
              "      <td>36</td>\n",
              "    </tr>\n",
              "  </tbody>\n",
              "</table>\n",
              "</div>\n",
              "      <button class=\"colab-df-convert\" onclick=\"convertToInteractive('df-1471f48f-e00e-4965-89b9-ebf69a9b5b3a')\"\n",
              "              title=\"Convert this dataframe to an interactive table.\"\n",
              "              style=\"display:none;\">\n",
              "        \n",
              "  <svg xmlns=\"http://www.w3.org/2000/svg\" height=\"24px\"viewBox=\"0 0 24 24\"\n",
              "       width=\"24px\">\n",
              "    <path d=\"M0 0h24v24H0V0z\" fill=\"none\"/>\n",
              "    <path d=\"M18.56 5.44l.94 2.06.94-2.06 2.06-.94-2.06-.94-.94-2.06-.94 2.06-2.06.94zm-11 1L8.5 8.5l.94-2.06 2.06-.94-2.06-.94L8.5 2.5l-.94 2.06-2.06.94zm10 10l.94 2.06.94-2.06 2.06-.94-2.06-.94-.94-2.06-.94 2.06-2.06.94z\"/><path d=\"M17.41 7.96l-1.37-1.37c-.4-.4-.92-.59-1.43-.59-.52 0-1.04.2-1.43.59L10.3 9.45l-7.72 7.72c-.78.78-.78 2.05 0 2.83L4 21.41c.39.39.9.59 1.41.59.51 0 1.02-.2 1.41-.59l7.78-7.78 2.81-2.81c.8-.78.8-2.07 0-2.86zM5.41 20L4 18.59l7.72-7.72 1.47 1.35L5.41 20z\"/>\n",
              "  </svg>\n",
              "      </button>\n",
              "      \n",
              "  <style>\n",
              "    .colab-df-container {\n",
              "      display:flex;\n",
              "      flex-wrap:wrap;\n",
              "      gap: 12px;\n",
              "    }\n",
              "\n",
              "    .colab-df-convert {\n",
              "      background-color: #E8F0FE;\n",
              "      border: none;\n",
              "      border-radius: 50%;\n",
              "      cursor: pointer;\n",
              "      display: none;\n",
              "      fill: #1967D2;\n",
              "      height: 32px;\n",
              "      padding: 0 0 0 0;\n",
              "      width: 32px;\n",
              "    }\n",
              "\n",
              "    .colab-df-convert:hover {\n",
              "      background-color: #E2EBFA;\n",
              "      box-shadow: 0px 1px 2px rgba(60, 64, 67, 0.3), 0px 1px 3px 1px rgba(60, 64, 67, 0.15);\n",
              "      fill: #174EA6;\n",
              "    }\n",
              "\n",
              "    [theme=dark] .colab-df-convert {\n",
              "      background-color: #3B4455;\n",
              "      fill: #D2E3FC;\n",
              "    }\n",
              "\n",
              "    [theme=dark] .colab-df-convert:hover {\n",
              "      background-color: #434B5C;\n",
              "      box-shadow: 0px 1px 3px 1px rgba(0, 0, 0, 0.15);\n",
              "      filter: drop-shadow(0px 1px 2px rgba(0, 0, 0, 0.3));\n",
              "      fill: #FFFFFF;\n",
              "    }\n",
              "  </style>\n",
              "\n",
              "      <script>\n",
              "        const buttonEl =\n",
              "          document.querySelector('#df-1471f48f-e00e-4965-89b9-ebf69a9b5b3a button.colab-df-convert');\n",
              "        buttonEl.style.display =\n",
              "          google.colab.kernel.accessAllowed ? 'block' : 'none';\n",
              "\n",
              "        async function convertToInteractive(key) {\n",
              "          const element = document.querySelector('#df-1471f48f-e00e-4965-89b9-ebf69a9b5b3a');\n",
              "          const dataTable =\n",
              "            await google.colab.kernel.invokeFunction('convertToInteractive',\n",
              "                                                     [key], {});\n",
              "          if (!dataTable) return;\n",
              "\n",
              "          const docLinkHtml = 'Like what you see? Visit the ' +\n",
              "            '<a target=\"_blank\" href=https://colab.research.google.com/notebooks/data_table.ipynb>data table notebook</a>'\n",
              "            + ' to learn more about interactive tables.';\n",
              "          element.innerHTML = '';\n",
              "          dataTable['output_type'] = 'display_data';\n",
              "          await google.colab.output.renderOutput(dataTable, element);\n",
              "          const docLink = document.createElement('div');\n",
              "          docLink.innerHTML = docLinkHtml;\n",
              "          element.appendChild(docLink);\n",
              "        }\n",
              "      </script>\n",
              "    </div>\n",
              "  </div>\n",
              "  "
            ]
          },
          "metadata": {},
          "execution_count": 263
        }
      ],
      "source": [
        "#View Cleaned Data \n",
        "#ndata = new data \n",
        "ndata = pd.DataFrame(df, columns=[\"Country/Region\", \"Confirmed\", \"Deaths\"])\n",
        "ndata = ndata.drop([1])\n",
        "ndata.tail()\n"
      ]
    },
    {
      "cell_type": "code",
      "execution_count": 264,
      "metadata": {
        "id": "Om8Gpj2kYeO5"
      },
      "outputs": [],
      "source": [
        "#EDA:: Exploratory Data Analysis"
      ]
    },
    {
      "cell_type": "code",
      "execution_count": 265,
      "metadata": {
        "colab": {
          "base_uri": "https://localhost:8080/"
        },
        "id": "JbH22swCmzhA",
        "outputId": "9dadcc3f-841e-49ba-85bf-c327814b1d7a"
      },
      "outputs": [
        {
          "output_type": "execute_result",
          "data": {
            "text/plain": [
              "Date        Country/Region       Confirmed  Deaths  Recovered  Active  New cases  New deaths  New recovered  WHO Region\n",
              "2020-01-22  Antigua and Barbuda  0          0       0          0       0          0           0              Americas      1\n",
              "2020-05-26  Chile                92855      806     30915      61134   3964       45          1613           Americas      1\n",
              "            Guyana               139        11      62         66      2          0           0              Americas      1\n",
              "            Guatemala            3954       63      289        3602    194        4           15             Americas      1\n",
              "            Grenada              23         0       18         5       0          0           0              Americas      1\n",
              "                                                                                                                          ..\n",
              "2020-03-24  Honduras             30         0       0          30      0          0           0              Americas      1\n",
              "            Haiti                7          0       0          7       1          0           0              Americas      1\n",
              "            Guyana               5          1       0          4       0          0           0              Americas      1\n",
              "            Guatemala            21         1       0          20      1          0           0              Americas      1\n",
              "2020-07-27  Venezuela            15988      146     9959       5883    525        4           213            Americas      1\n",
              "Length: 6580, dtype: int64"
            ]
          },
          "metadata": {},
          "execution_count": 265
        }
      ],
      "source": [
        "#Frequency Distribution Table on how many Deaths there were in the Americas region \n",
        "#fq = frequency\n",
        "fq = df.groupby('WHO Region')\n",
        "xvals = fq.get_group(\"Americas\").value_counts()\n",
        "xvals\n",
        "\n"
      ]
    },
    {
      "cell_type": "code",
      "execution_count": 266,
      "metadata": {
        "colab": {
          "base_uri": "https://localhost:8080/"
        },
        "id": "PQGtEhhEqJ4V",
        "outputId": "29ea169c-3930-465c-a65d-d3b8f104350e"
      },
      "outputs": [
        {
          "output_type": "execute_result",
          "data": {
            "text/plain": [
              "Date        Country/Region     Confirmed  Deaths  Recovered  Active  New cases  New deaths  New recovered  WHO Region\n",
              "2020-01-22  Algeria            0          0       0          0       0          0           0              Africa        1\n",
              "2020-05-26  Gambia             25         1       18         6       0          0           1              Africa        1\n",
              "            Cote d'Ivoire      2477       30      1286       1161    54         0           29             Africa        1\n",
              "            Equatorial Guinea  1043       12      165        866     0          0           0              Africa        1\n",
              "            Eritrea            39         0       39         0       0          0           0              Africa        1\n",
              "                                                                                                                        ..\n",
              "2020-03-24  Liberia            3          0       0          3       0          0           0              Africa        1\n",
              "            Lesotho            0          0       0          0       0          0           0              Africa        1\n",
              "            Kenya              25         0       0          25      9          0           0              Africa        1\n",
              "            Guinea-Bissau      0          0       0          0       0          0           0              Africa        1\n",
              "2020-07-27  Zimbabwe           2704       36      542        2126    192        2           24             Africa        1\n",
              "Length: 9024, dtype: int64"
            ]
          },
          "metadata": {},
          "execution_count": 266
        }
      ],
      "source": [
        "#Frequency Distribution Table on how many Deaths there were in the Africas region\n",
        "fq2 = df.groupby('WHO Region')\n",
        "xvals1 = fq2.get_group(\"Africa\").value_counts()\n",
        "xvals1"
      ]
    },
    {
      "cell_type": "code",
      "execution_count": 267,
      "metadata": {
        "colab": {
          "base_uri": "https://localhost:8080/"
        },
        "id": "5omT_ftiqJmC",
        "outputId": "e7c35630-78ef-44c8-8663-994ca15fa663"
      },
      "outputs": [
        {
          "output_type": "execute_result",
          "data": {
            "text/plain": [
              "Date        Country/Region      Confirmed  Deaths  Recovered  Active  New cases  New deaths  New recovered  WHO Region           \n",
              "2020-01-22  Afghanistan         0          0       0          0       0          0           0              Eastern Mediterranean    1\n",
              "2020-05-27  Jordan              720        9       586        125     2          0           0              Eastern Mediterranean    1\n",
              "2020-05-25  West Bank and Gaza  423        3       357        63      0          0           0              Eastern Mediterranean    1\n",
              "            Yemen               233        44      10         179     11         2           0              Eastern Mediterranean    1\n",
              "2020-05-26  Afghanistan         11831      220     1128       10483   658        1           31             Eastern Mediterranean    1\n",
              "                                                                                                                                    ..\n",
              "2020-03-24  West Bank and Gaza  59         0       17         42      0          0           0              Eastern Mediterranean    1\n",
              "            Yemen               0          0       0          0       0          0           0              Eastern Mediterranean    1\n",
              "2020-03-25  Afghanistan         84         2       2          80      10         1           1              Eastern Mediterranean    1\n",
              "            Bahrain             419        4       177        238     27         1           0              Eastern Mediterranean    1\n",
              "2020-07-27  Yemen               1691       483     833        375     10         4           36             Eastern Mediterranean    1\n",
              "Length: 4136, dtype: int64"
            ]
          },
          "metadata": {},
          "execution_count": 267
        }
      ],
      "source": [
        "#Frequency Distribution Table on how many Deaths there were in the E.Med region\n",
        "fq2 = df.groupby('WHO Region')\n",
        "xvals2 = fq2.get_group(\"Eastern Mediterranean\").value_counts()\n",
        "xvals2"
      ]
    },
    {
      "cell_type": "code",
      "execution_count": 268,
      "metadata": {
        "colab": {
          "base_uri": "https://localhost:8080/"
        },
        "id": "X6UUPpc_yapE",
        "outputId": "fb73d3b3-26ac-4a61-96c6-d84e2f8da930"
      },
      "outputs": [
        {
          "output_type": "execute_result",
          "data": {
            "text/plain": [
              "Date        Country/Region   Confirmed  Deaths  Recovered  Active  New cases  New deaths  New recovered  WHO Region\n",
              "2020-01-22  Albania          0          0       0          0       0          0           0              Europe        1\n",
              "2020-05-26  Denmark          11615      563     10231      821     41         0           80             Europe        1\n",
              "            Finland          6628       312     5100       1216    29         4           0              Europe        1\n",
              "            France           182847     28533   65997      88317   0          73          680            Europe        1\n",
              "            Georgia          732        12      537        183     1          0           11             Europe        1\n",
              "                                                                                                                      ..\n",
              "2020-03-24  North Macedonia  148        2       1          145     12         0           0              Europe        1\n",
              "            Norway           2863       12      6          2845    242        2           5              Europe        1\n",
              "            Poland           901        10      1          890     152        2           0              Europe        1\n",
              "            Portugal         2362       33      22         2307    302        10          17             Europe        1\n",
              "2020-07-27  Uzbekistan       21209      121     11674      9414    678        5           569            Europe        1\n",
              "Length: 10528, dtype: int64"
            ]
          },
          "metadata": {},
          "execution_count": 268
        }
      ],
      "source": [
        "#Frequency Distribution Table on how many Deaths there were in the Europe region\n",
        "fq2 = df.groupby('WHO Region')\n",
        "xvals3 = fq2.get_group(\"Europe\").value_counts()\n",
        "xvals3"
      ]
    },
    {
      "cell_type": "code",
      "execution_count": 269,
      "metadata": {
        "colab": {
          "base_uri": "https://localhost:8080/"
        },
        "id": "5L89cUBnycgb",
        "outputId": "4f7faac5-2826-4e69-cf81-707d282c984f"
      },
      "outputs": [
        {
          "output_type": "execute_result",
          "data": {
            "text/plain": [
              "Date        Country/Region  Confirmed  Deaths  Recovered  Active  New cases  New deaths  New recovered  WHO Region     \n",
              "2020-01-22  Bangladesh      0          0       0          0       0          0           0              South-East Asia    1\n",
              "2020-05-25  Timor-Leste     24         0       0          24      0          0           0              South-East Asia    1\n",
              "2020-05-27  Bhutan          28         0       6          22      1          0           0              South-East Asia    1\n",
              "            Bangladesh      38292      544     7925       29823   1541       22          346            South-East Asia    1\n",
              "2020-05-26  Timor-Leste     24         0       0          24      0          0           0              South-East Asia    1\n",
              "                                                                                                                          ..\n",
              "2020-03-24  Burma           0          0       0          0       0          0           0              South-East Asia    1\n",
              "            Bhutan          2          0       0          2       0          0           0              South-East Asia    1\n",
              "            Bangladesh      39         4       5          30      6          1           2              South-East Asia    1\n",
              "2020-03-23  Timor-Leste     1          0       0          1       0          0           0              South-East Asia    1\n",
              "2020-07-27  Timor-Leste     24         0       0          24      0          0           0              South-East Asia    1\n",
              "Length: 1880, dtype: int64"
            ]
          },
          "metadata": {},
          "execution_count": 269
        }
      ],
      "source": [
        "#Frequency Distribution Table on how many Deaths there were in the SE.Asia region\n",
        "fq2 = df.groupby('WHO Region')\n",
        "xvals4 = fq2.get_group(\"South-East Asia\").value_counts()\n",
        "xvals4"
      ]
    },
    {
      "cell_type": "code",
      "execution_count": 270,
      "metadata": {
        "colab": {
          "base_uri": "https://localhost:8080/"
        },
        "id": "IM-3QZ_Dyc5Z",
        "outputId": "a9683bd2-864b-45c1-9a92-85ececfaf60b"
      },
      "outputs": [
        {
          "output_type": "execute_result",
          "data": {
            "text/plain": [
              "Date        Country/Region  Confirmed  Deaths  Recovered  Active  New cases  New deaths  New recovered  WHO Region     \n",
              "2020-01-22  Australia       0          0       0          0       0          0           0              Western Pacific    1\n",
              "2020-05-26  New Zealand     1504       21      1462       21      0          0           1              Western Pacific    1\n",
              "            Australia       7139       103     6560       476     13         1           8              Western Pacific    1\n",
              "            Brunei          141        1       137        3       0          0           0              Western Pacific    1\n",
              "            Cambodia        124        0       122        2       0          0           0              Western Pacific    1\n",
              "                                                                                                                          ..\n",
              "2020-03-24  Singapore       558        2       156        400     49         0           12             Western Pacific    1\n",
              "            South Korea     9037       120     3507       5410    76         9           598            Western Pacific    1\n",
              "            Taiwan*         215        2       29         184     20         0           1              Western Pacific    1\n",
              "            Vietnam         134        0       17         117     11         0           0              Western Pacific    1\n",
              "2020-07-27  Vietnam         431        0       365        66      11         0           0              Western Pacific    1\n",
              "Length: 3008, dtype: int64"
            ]
          },
          "metadata": {},
          "execution_count": 270
        }
      ],
      "source": [
        "#Frequency Distribution Table on how many Deaths there were in the W. Pacific region\n",
        "fq2 = df.groupby('WHO Region')\n",
        "xvals5 = fq2.get_group(\"Western Pacific\").value_counts()\n",
        "xvals5"
      ]
    },
    {
      "cell_type": "code",
      "execution_count": 271,
      "metadata": {
        "colab": {
          "base_uri": "https://localhost:8080/",
          "height": 463
        },
        "id": "WFVAHqrFue0N",
        "outputId": "1cea0d39-ec53-4414-99a2-ed8758717b4a"
      },
      "outputs": [
        {
          "output_type": "execute_result",
          "data": {
            "text/plain": [
              "                      Confirmed                                          \\\n",
              "                          count          mean            std  min   25%   \n",
              "WHO Region                                                                \n",
              "Africa                   9024.0   2414.874446   18218.743873  0.0   0.0   \n",
              "Americas                 6580.0  61133.920061  321522.223526  0.0   1.0   \n",
              "Eastern Mediterranean    4136.0  17911.724371   45443.726817  0.0   3.0   \n",
              "Europe                  10528.0  23639.797967   69880.182265  0.0   8.0   \n",
              "South-East Asia          1880.0  29318.279255  131144.272731  0.0   2.0   \n",
              "Western Pacific          3008.0   8768.088763   20372.699805  0.0  16.0   \n",
              "\n",
              "                                                     Deaths               ...  \\\n",
              "                          50%       75%        max    count         mean  ...   \n",
              "WHO Region                                                                ...   \n",
              "Africa                   50.0    820.00   452529.0   9024.0    48.756427  ...   \n",
              "Americas                 79.0   3183.50  4290259.0   6580.0  2942.141641  ...   \n",
              "Eastern Mediterranean   725.5   8422.75   293606.0   4136.0   465.190764  ...   \n",
              "Europe                 1122.0  10272.50   816680.0  10528.0  1830.455927  ...   \n",
              "South-East Asia          86.5   2966.00  1480073.0   1880.0   775.603191  ...   \n",
              "Western Pacific         153.0   7137.50    86783.0   3008.0   309.983378  ...   \n",
              "\n",
              "                      New deaths         New recovered              \\\n",
              "                             75%     max         count        mean   \n",
              "WHO Region                                                           \n",
              "Africa                       0.0   572.0        9024.0   48.830341   \n",
              "Americas                     3.0  3887.0        6580.0  679.120973   \n",
              "Eastern Mediterranean        3.0   229.0        4136.0  290.473888   \n",
              "Europe                       4.0  1438.0       10528.0  189.373385   \n",
              "South-East Asia              1.0  2003.0        1880.0  615.389894   \n",
              "Western Pacific              0.0  1290.0        3008.0   68.730718   \n",
              "\n",
              "                                                                       \n",
              "                               std      min  25%  50%   75%       max  \n",
              "WHO Region                                                             \n",
              "Africa                  506.204335   -311.0  0.0  0.0   3.0   21031.0  \n",
              "Americas               4224.529085 -16298.0  0.0  0.0  13.0  140050.0  \n",
              "Eastern Mediterranean   865.750773    -89.0  0.0  3.0  98.0   19772.0  \n",
              "Europe                  862.753809 -15564.0  0.0  0.0  43.0   18839.0  \n",
              "South-East Asia        3053.782728     -2.0  0.0  0.0  19.0   36141.0  \n",
              "Western Pacific         265.524078   -850.0  0.0  0.0  22.0    4325.0  \n",
              "\n",
              "[6 rows x 56 columns]"
            ],
            "text/html": [
              "\n",
              "  <div id=\"df-db14b556-9b7d-40e7-a84e-2fbca4c79bef\">\n",
              "    <div class=\"colab-df-container\">\n",
              "      <div>\n",
              "<style scoped>\n",
              "    .dataframe tbody tr th:only-of-type {\n",
              "        vertical-align: middle;\n",
              "    }\n",
              "\n",
              "    .dataframe tbody tr th {\n",
              "        vertical-align: top;\n",
              "    }\n",
              "\n",
              "    .dataframe thead tr th {\n",
              "        text-align: left;\n",
              "    }\n",
              "\n",
              "    .dataframe thead tr:last-of-type th {\n",
              "        text-align: right;\n",
              "    }\n",
              "</style>\n",
              "<table border=\"1\" class=\"dataframe\">\n",
              "  <thead>\n",
              "    <tr>\n",
              "      <th></th>\n",
              "      <th colspan=\"8\" halign=\"left\">Confirmed</th>\n",
              "      <th colspan=\"2\" halign=\"left\">Deaths</th>\n",
              "      <th>...</th>\n",
              "      <th colspan=\"2\" halign=\"left\">New deaths</th>\n",
              "      <th colspan=\"8\" halign=\"left\">New recovered</th>\n",
              "    </tr>\n",
              "    <tr>\n",
              "      <th></th>\n",
              "      <th>count</th>\n",
              "      <th>mean</th>\n",
              "      <th>std</th>\n",
              "      <th>min</th>\n",
              "      <th>25%</th>\n",
              "      <th>50%</th>\n",
              "      <th>75%</th>\n",
              "      <th>max</th>\n",
              "      <th>count</th>\n",
              "      <th>mean</th>\n",
              "      <th>...</th>\n",
              "      <th>75%</th>\n",
              "      <th>max</th>\n",
              "      <th>count</th>\n",
              "      <th>mean</th>\n",
              "      <th>std</th>\n",
              "      <th>min</th>\n",
              "      <th>25%</th>\n",
              "      <th>50%</th>\n",
              "      <th>75%</th>\n",
              "      <th>max</th>\n",
              "    </tr>\n",
              "    <tr>\n",
              "      <th>WHO Region</th>\n",
              "      <th></th>\n",
              "      <th></th>\n",
              "      <th></th>\n",
              "      <th></th>\n",
              "      <th></th>\n",
              "      <th></th>\n",
              "      <th></th>\n",
              "      <th></th>\n",
              "      <th></th>\n",
              "      <th></th>\n",
              "      <th></th>\n",
              "      <th></th>\n",
              "      <th></th>\n",
              "      <th></th>\n",
              "      <th></th>\n",
              "      <th></th>\n",
              "      <th></th>\n",
              "      <th></th>\n",
              "      <th></th>\n",
              "      <th></th>\n",
              "      <th></th>\n",
              "    </tr>\n",
              "  </thead>\n",
              "  <tbody>\n",
              "    <tr>\n",
              "      <th>Africa</th>\n",
              "      <td>9024.0</td>\n",
              "      <td>2414.874446</td>\n",
              "      <td>18218.743873</td>\n",
              "      <td>0.0</td>\n",
              "      <td>0.0</td>\n",
              "      <td>50.0</td>\n",
              "      <td>820.00</td>\n",
              "      <td>452529.0</td>\n",
              "      <td>9024.0</td>\n",
              "      <td>48.756427</td>\n",
              "      <td>...</td>\n",
              "      <td>0.0</td>\n",
              "      <td>572.0</td>\n",
              "      <td>9024.0</td>\n",
              "      <td>48.830341</td>\n",
              "      <td>506.204335</td>\n",
              "      <td>-311.0</td>\n",
              "      <td>0.0</td>\n",
              "      <td>0.0</td>\n",
              "      <td>3.0</td>\n",
              "      <td>21031.0</td>\n",
              "    </tr>\n",
              "    <tr>\n",
              "      <th>Americas</th>\n",
              "      <td>6580.0</td>\n",
              "      <td>61133.920061</td>\n",
              "      <td>321522.223526</td>\n",
              "      <td>0.0</td>\n",
              "      <td>1.0</td>\n",
              "      <td>79.0</td>\n",
              "      <td>3183.50</td>\n",
              "      <td>4290259.0</td>\n",
              "      <td>6580.0</td>\n",
              "      <td>2942.141641</td>\n",
              "      <td>...</td>\n",
              "      <td>3.0</td>\n",
              "      <td>3887.0</td>\n",
              "      <td>6580.0</td>\n",
              "      <td>679.120973</td>\n",
              "      <td>4224.529085</td>\n",
              "      <td>-16298.0</td>\n",
              "      <td>0.0</td>\n",
              "      <td>0.0</td>\n",
              "      <td>13.0</td>\n",
              "      <td>140050.0</td>\n",
              "    </tr>\n",
              "    <tr>\n",
              "      <th>Eastern Mediterranean</th>\n",
              "      <td>4136.0</td>\n",
              "      <td>17911.724371</td>\n",
              "      <td>45443.726817</td>\n",
              "      <td>0.0</td>\n",
              "      <td>3.0</td>\n",
              "      <td>725.5</td>\n",
              "      <td>8422.75</td>\n",
              "      <td>293606.0</td>\n",
              "      <td>4136.0</td>\n",
              "      <td>465.190764</td>\n",
              "      <td>...</td>\n",
              "      <td>3.0</td>\n",
              "      <td>229.0</td>\n",
              "      <td>4136.0</td>\n",
              "      <td>290.473888</td>\n",
              "      <td>865.750773</td>\n",
              "      <td>-89.0</td>\n",
              "      <td>0.0</td>\n",
              "      <td>3.0</td>\n",
              "      <td>98.0</td>\n",
              "      <td>19772.0</td>\n",
              "    </tr>\n",
              "    <tr>\n",
              "      <th>Europe</th>\n",
              "      <td>10528.0</td>\n",
              "      <td>23639.797967</td>\n",
              "      <td>69880.182265</td>\n",
              "      <td>0.0</td>\n",
              "      <td>8.0</td>\n",
              "      <td>1122.0</td>\n",
              "      <td>10272.50</td>\n",
              "      <td>816680.0</td>\n",
              "      <td>10528.0</td>\n",
              "      <td>1830.455927</td>\n",
              "      <td>...</td>\n",
              "      <td>4.0</td>\n",
              "      <td>1438.0</td>\n",
              "      <td>10528.0</td>\n",
              "      <td>189.373385</td>\n",
              "      <td>862.753809</td>\n",
              "      <td>-15564.0</td>\n",
              "      <td>0.0</td>\n",
              "      <td>0.0</td>\n",
              "      <td>43.0</td>\n",
              "      <td>18839.0</td>\n",
              "    </tr>\n",
              "    <tr>\n",
              "      <th>South-East Asia</th>\n",
              "      <td>1880.0</td>\n",
              "      <td>29318.279255</td>\n",
              "      <td>131144.272731</td>\n",
              "      <td>0.0</td>\n",
              "      <td>2.0</td>\n",
              "      <td>86.5</td>\n",
              "      <td>2966.00</td>\n",
              "      <td>1480073.0</td>\n",
              "      <td>1880.0</td>\n",
              "      <td>775.603191</td>\n",
              "      <td>...</td>\n",
              "      <td>1.0</td>\n",
              "      <td>2003.0</td>\n",
              "      <td>1880.0</td>\n",
              "      <td>615.389894</td>\n",
              "      <td>3053.782728</td>\n",
              "      <td>-2.0</td>\n",
              "      <td>0.0</td>\n",
              "      <td>0.0</td>\n",
              "      <td>19.0</td>\n",
              "      <td>36141.0</td>\n",
              "    </tr>\n",
              "    <tr>\n",
              "      <th>Western Pacific</th>\n",
              "      <td>3008.0</td>\n",
              "      <td>8768.088763</td>\n",
              "      <td>20372.699805</td>\n",
              "      <td>0.0</td>\n",
              "      <td>16.0</td>\n",
              "      <td>153.0</td>\n",
              "      <td>7137.50</td>\n",
              "      <td>86783.0</td>\n",
              "      <td>3008.0</td>\n",
              "      <td>309.983378</td>\n",
              "      <td>...</td>\n",
              "      <td>0.0</td>\n",
              "      <td>1290.0</td>\n",
              "      <td>3008.0</td>\n",
              "      <td>68.730718</td>\n",
              "      <td>265.524078</td>\n",
              "      <td>-850.0</td>\n",
              "      <td>0.0</td>\n",
              "      <td>0.0</td>\n",
              "      <td>22.0</td>\n",
              "      <td>4325.0</td>\n",
              "    </tr>\n",
              "  </tbody>\n",
              "</table>\n",
              "<p>6 rows × 56 columns</p>\n",
              "</div>\n",
              "      <button class=\"colab-df-convert\" onclick=\"convertToInteractive('df-db14b556-9b7d-40e7-a84e-2fbca4c79bef')\"\n",
              "              title=\"Convert this dataframe to an interactive table.\"\n",
              "              style=\"display:none;\">\n",
              "        \n",
              "  <svg xmlns=\"http://www.w3.org/2000/svg\" height=\"24px\"viewBox=\"0 0 24 24\"\n",
              "       width=\"24px\">\n",
              "    <path d=\"M0 0h24v24H0V0z\" fill=\"none\"/>\n",
              "    <path d=\"M18.56 5.44l.94 2.06.94-2.06 2.06-.94-2.06-.94-.94-2.06-.94 2.06-2.06.94zm-11 1L8.5 8.5l.94-2.06 2.06-.94-2.06-.94L8.5 2.5l-.94 2.06-2.06.94zm10 10l.94 2.06.94-2.06 2.06-.94-2.06-.94-.94-2.06-.94 2.06-2.06.94z\"/><path d=\"M17.41 7.96l-1.37-1.37c-.4-.4-.92-.59-1.43-.59-.52 0-1.04.2-1.43.59L10.3 9.45l-7.72 7.72c-.78.78-.78 2.05 0 2.83L4 21.41c.39.39.9.59 1.41.59.51 0 1.02-.2 1.41-.59l7.78-7.78 2.81-2.81c.8-.78.8-2.07 0-2.86zM5.41 20L4 18.59l7.72-7.72 1.47 1.35L5.41 20z\"/>\n",
              "  </svg>\n",
              "      </button>\n",
              "      \n",
              "  <style>\n",
              "    .colab-df-container {\n",
              "      display:flex;\n",
              "      flex-wrap:wrap;\n",
              "      gap: 12px;\n",
              "    }\n",
              "\n",
              "    .colab-df-convert {\n",
              "      background-color: #E8F0FE;\n",
              "      border: none;\n",
              "      border-radius: 50%;\n",
              "      cursor: pointer;\n",
              "      display: none;\n",
              "      fill: #1967D2;\n",
              "      height: 32px;\n",
              "      padding: 0 0 0 0;\n",
              "      width: 32px;\n",
              "    }\n",
              "\n",
              "    .colab-df-convert:hover {\n",
              "      background-color: #E2EBFA;\n",
              "      box-shadow: 0px 1px 2px rgba(60, 64, 67, 0.3), 0px 1px 3px 1px rgba(60, 64, 67, 0.15);\n",
              "      fill: #174EA6;\n",
              "    }\n",
              "\n",
              "    [theme=dark] .colab-df-convert {\n",
              "      background-color: #3B4455;\n",
              "      fill: #D2E3FC;\n",
              "    }\n",
              "\n",
              "    [theme=dark] .colab-df-convert:hover {\n",
              "      background-color: #434B5C;\n",
              "      box-shadow: 0px 1px 3px 1px rgba(0, 0, 0, 0.15);\n",
              "      filter: drop-shadow(0px 1px 2px rgba(0, 0, 0, 0.3));\n",
              "      fill: #FFFFFF;\n",
              "    }\n",
              "  </style>\n",
              "\n",
              "      <script>\n",
              "        const buttonEl =\n",
              "          document.querySelector('#df-db14b556-9b7d-40e7-a84e-2fbca4c79bef button.colab-df-convert');\n",
              "        buttonEl.style.display =\n",
              "          google.colab.kernel.accessAllowed ? 'block' : 'none';\n",
              "\n",
              "        async function convertToInteractive(key) {\n",
              "          const element = document.querySelector('#df-db14b556-9b7d-40e7-a84e-2fbca4c79bef');\n",
              "          const dataTable =\n",
              "            await google.colab.kernel.invokeFunction('convertToInteractive',\n",
              "                                                     [key], {});\n",
              "          if (!dataTable) return;\n",
              "\n",
              "          const docLinkHtml = 'Like what you see? Visit the ' +\n",
              "            '<a target=\"_blank\" href=https://colab.research.google.com/notebooks/data_table.ipynb>data table notebook</a>'\n",
              "            + ' to learn more about interactive tables.';\n",
              "          element.innerHTML = '';\n",
              "          dataTable['output_type'] = 'display_data';\n",
              "          await google.colab.output.renderOutput(dataTable, element);\n",
              "          const docLink = document.createElement('div');\n",
              "          docLink.innerHTML = docLinkHtml;\n",
              "          element.appendChild(docLink);\n",
              "        }\n",
              "      </script>\n",
              "    </div>\n",
              "  </div>\n",
              "  "
            ]
          },
          "metadata": {},
          "execution_count": 271
        }
      ],
      "source": [
        "info= df.groupby('WHO Region')\n",
        "info.describe()\n"
      ]
    },
    {
      "cell_type": "code",
      "execution_count": 272,
      "metadata": {
        "colab": {
          "base_uri": "https://localhost:8080/",
          "height": 300
        },
        "id": "QiB_qq_Cuem2",
        "outputId": "4bb2a257-62f0-43ff-d386-6ff72e3cbae4"
      },
      "outputs": [
        {
          "output_type": "execute_result",
          "data": {
            "text/plain": [
              "          Confirmed         Deaths     Recovered        Active    New cases  \\\n",
              "count  3.515600e+04   35156.000000  3.515600e+04  3.515600e+04  35156.00000   \n",
              "mean   2.356663e+04    1234.068239  1.104813e+04  1.128443e+04    469.36375   \n",
              "std    1.499818e+05    7437.238354  6.454640e+04  8.997149e+04   3005.86754   \n",
              "min    0.000000e+00       0.000000  0.000000e+00 -2.000000e+00      0.00000   \n",
              "25%    1.000000e+00       0.000000  0.000000e+00  0.000000e+00      0.00000   \n",
              "50%    2.500000e+02       4.000000  3.300000e+01  8.500000e+01      2.00000   \n",
              "75%    3.640250e+03      78.250000  1.286250e+03  1.454000e+03     75.00000   \n",
              "max    4.290259e+06  148011.000000  1.846641e+06  2.816444e+06  77255.00000   \n",
              "\n",
              "         New deaths  New recovered  \n",
              "count  35156.000000   35156.000000  \n",
              "mean      18.603339     269.315593  \n",
              "std      115.706351    2068.063852  \n",
              "min    -1918.000000  -16298.000000  \n",
              "25%        0.000000       0.000000  \n",
              "50%        0.000000       0.000000  \n",
              "75%        1.000000      20.000000  \n",
              "max     3887.000000  140050.000000  "
            ],
            "text/html": [
              "\n",
              "  <div id=\"df-82c74bf1-923e-415c-bef9-cd74ad690ecc\">\n",
              "    <div class=\"colab-df-container\">\n",
              "      <div>\n",
              "<style scoped>\n",
              "    .dataframe tbody tr th:only-of-type {\n",
              "        vertical-align: middle;\n",
              "    }\n",
              "\n",
              "    .dataframe tbody tr th {\n",
              "        vertical-align: top;\n",
              "    }\n",
              "\n",
              "    .dataframe thead th {\n",
              "        text-align: right;\n",
              "    }\n",
              "</style>\n",
              "<table border=\"1\" class=\"dataframe\">\n",
              "  <thead>\n",
              "    <tr style=\"text-align: right;\">\n",
              "      <th></th>\n",
              "      <th>Confirmed</th>\n",
              "      <th>Deaths</th>\n",
              "      <th>Recovered</th>\n",
              "      <th>Active</th>\n",
              "      <th>New cases</th>\n",
              "      <th>New deaths</th>\n",
              "      <th>New recovered</th>\n",
              "    </tr>\n",
              "  </thead>\n",
              "  <tbody>\n",
              "    <tr>\n",
              "      <th>count</th>\n",
              "      <td>3.515600e+04</td>\n",
              "      <td>35156.000000</td>\n",
              "      <td>3.515600e+04</td>\n",
              "      <td>3.515600e+04</td>\n",
              "      <td>35156.00000</td>\n",
              "      <td>35156.000000</td>\n",
              "      <td>35156.000000</td>\n",
              "    </tr>\n",
              "    <tr>\n",
              "      <th>mean</th>\n",
              "      <td>2.356663e+04</td>\n",
              "      <td>1234.068239</td>\n",
              "      <td>1.104813e+04</td>\n",
              "      <td>1.128443e+04</td>\n",
              "      <td>469.36375</td>\n",
              "      <td>18.603339</td>\n",
              "      <td>269.315593</td>\n",
              "    </tr>\n",
              "    <tr>\n",
              "      <th>std</th>\n",
              "      <td>1.499818e+05</td>\n",
              "      <td>7437.238354</td>\n",
              "      <td>6.454640e+04</td>\n",
              "      <td>8.997149e+04</td>\n",
              "      <td>3005.86754</td>\n",
              "      <td>115.706351</td>\n",
              "      <td>2068.063852</td>\n",
              "    </tr>\n",
              "    <tr>\n",
              "      <th>min</th>\n",
              "      <td>0.000000e+00</td>\n",
              "      <td>0.000000</td>\n",
              "      <td>0.000000e+00</td>\n",
              "      <td>-2.000000e+00</td>\n",
              "      <td>0.00000</td>\n",
              "      <td>-1918.000000</td>\n",
              "      <td>-16298.000000</td>\n",
              "    </tr>\n",
              "    <tr>\n",
              "      <th>25%</th>\n",
              "      <td>1.000000e+00</td>\n",
              "      <td>0.000000</td>\n",
              "      <td>0.000000e+00</td>\n",
              "      <td>0.000000e+00</td>\n",
              "      <td>0.00000</td>\n",
              "      <td>0.000000</td>\n",
              "      <td>0.000000</td>\n",
              "    </tr>\n",
              "    <tr>\n",
              "      <th>50%</th>\n",
              "      <td>2.500000e+02</td>\n",
              "      <td>4.000000</td>\n",
              "      <td>3.300000e+01</td>\n",
              "      <td>8.500000e+01</td>\n",
              "      <td>2.00000</td>\n",
              "      <td>0.000000</td>\n",
              "      <td>0.000000</td>\n",
              "    </tr>\n",
              "    <tr>\n",
              "      <th>75%</th>\n",
              "      <td>3.640250e+03</td>\n",
              "      <td>78.250000</td>\n",
              "      <td>1.286250e+03</td>\n",
              "      <td>1.454000e+03</td>\n",
              "      <td>75.00000</td>\n",
              "      <td>1.000000</td>\n",
              "      <td>20.000000</td>\n",
              "    </tr>\n",
              "    <tr>\n",
              "      <th>max</th>\n",
              "      <td>4.290259e+06</td>\n",
              "      <td>148011.000000</td>\n",
              "      <td>1.846641e+06</td>\n",
              "      <td>2.816444e+06</td>\n",
              "      <td>77255.00000</td>\n",
              "      <td>3887.000000</td>\n",
              "      <td>140050.000000</td>\n",
              "    </tr>\n",
              "  </tbody>\n",
              "</table>\n",
              "</div>\n",
              "      <button class=\"colab-df-convert\" onclick=\"convertToInteractive('df-82c74bf1-923e-415c-bef9-cd74ad690ecc')\"\n",
              "              title=\"Convert this dataframe to an interactive table.\"\n",
              "              style=\"display:none;\">\n",
              "        \n",
              "  <svg xmlns=\"http://www.w3.org/2000/svg\" height=\"24px\"viewBox=\"0 0 24 24\"\n",
              "       width=\"24px\">\n",
              "    <path d=\"M0 0h24v24H0V0z\" fill=\"none\"/>\n",
              "    <path d=\"M18.56 5.44l.94 2.06.94-2.06 2.06-.94-2.06-.94-.94-2.06-.94 2.06-2.06.94zm-11 1L8.5 8.5l.94-2.06 2.06-.94-2.06-.94L8.5 2.5l-.94 2.06-2.06.94zm10 10l.94 2.06.94-2.06 2.06-.94-2.06-.94-.94-2.06-.94 2.06-2.06.94z\"/><path d=\"M17.41 7.96l-1.37-1.37c-.4-.4-.92-.59-1.43-.59-.52 0-1.04.2-1.43.59L10.3 9.45l-7.72 7.72c-.78.78-.78 2.05 0 2.83L4 21.41c.39.39.9.59 1.41.59.51 0 1.02-.2 1.41-.59l7.78-7.78 2.81-2.81c.8-.78.8-2.07 0-2.86zM5.41 20L4 18.59l7.72-7.72 1.47 1.35L5.41 20z\"/>\n",
              "  </svg>\n",
              "      </button>\n",
              "      \n",
              "  <style>\n",
              "    .colab-df-container {\n",
              "      display:flex;\n",
              "      flex-wrap:wrap;\n",
              "      gap: 12px;\n",
              "    }\n",
              "\n",
              "    .colab-df-convert {\n",
              "      background-color: #E8F0FE;\n",
              "      border: none;\n",
              "      border-radius: 50%;\n",
              "      cursor: pointer;\n",
              "      display: none;\n",
              "      fill: #1967D2;\n",
              "      height: 32px;\n",
              "      padding: 0 0 0 0;\n",
              "      width: 32px;\n",
              "    }\n",
              "\n",
              "    .colab-df-convert:hover {\n",
              "      background-color: #E2EBFA;\n",
              "      box-shadow: 0px 1px 2px rgba(60, 64, 67, 0.3), 0px 1px 3px 1px rgba(60, 64, 67, 0.15);\n",
              "      fill: #174EA6;\n",
              "    }\n",
              "\n",
              "    [theme=dark] .colab-df-convert {\n",
              "      background-color: #3B4455;\n",
              "      fill: #D2E3FC;\n",
              "    }\n",
              "\n",
              "    [theme=dark] .colab-df-convert:hover {\n",
              "      background-color: #434B5C;\n",
              "      box-shadow: 0px 1px 3px 1px rgba(0, 0, 0, 0.15);\n",
              "      filter: drop-shadow(0px 1px 2px rgba(0, 0, 0, 0.3));\n",
              "      fill: #FFFFFF;\n",
              "    }\n",
              "  </style>\n",
              "\n",
              "      <script>\n",
              "        const buttonEl =\n",
              "          document.querySelector('#df-82c74bf1-923e-415c-bef9-cd74ad690ecc button.colab-df-convert');\n",
              "        buttonEl.style.display =\n",
              "          google.colab.kernel.accessAllowed ? 'block' : 'none';\n",
              "\n",
              "        async function convertToInteractive(key) {\n",
              "          const element = document.querySelector('#df-82c74bf1-923e-415c-bef9-cd74ad690ecc');\n",
              "          const dataTable =\n",
              "            await google.colab.kernel.invokeFunction('convertToInteractive',\n",
              "                                                     [key], {});\n",
              "          if (!dataTable) return;\n",
              "\n",
              "          const docLinkHtml = 'Like what you see? Visit the ' +\n",
              "            '<a target=\"_blank\" href=https://colab.research.google.com/notebooks/data_table.ipynb>data table notebook</a>'\n",
              "            + ' to learn more about interactive tables.';\n",
              "          element.innerHTML = '';\n",
              "          dataTable['output_type'] = 'display_data';\n",
              "          await google.colab.output.renderOutput(dataTable, element);\n",
              "          const docLink = document.createElement('div');\n",
              "          docLink.innerHTML = docLinkHtml;\n",
              "          element.appendChild(docLink);\n",
              "        }\n",
              "      </script>\n",
              "    </div>\n",
              "  </div>\n",
              "  "
            ]
          },
          "metadata": {},
          "execution_count": 272
        }
      ],
      "source": [
        "df.describe()\n",
        "\n"
      ]
    },
    {
      "cell_type": "code",
      "execution_count": 273,
      "metadata": {
        "colab": {
          "base_uri": "https://localhost:8080/",
          "height": 372
        },
        "id": "-3UyuB2IgoLT",
        "outputId": "4cf903b4-27bc-4727-f857-99dbb48da073"
      },
      "outputs": [
        {
          "output_type": "execute_result",
          "data": {
            "text/plain": [
              "           Date  Confirmed  Deaths  Recovered   Active  New cases  New deaths  \\\n",
              "183  2020-07-23   15510481  633506    8710969  6166006     282756        9966   \n",
              "184  2020-07-24   15791645  639650    8939705  6212290     281164        6144   \n",
              "185  2020-07-25   16047190  644517    9158743  6243930     255545        4867   \n",
              "186  2020-07-26   16251796  648621    9293464  6309711     204606        4104   \n",
              "187  2020-07-27   16480485  654036    9468087  6358362     228693        5415   \n",
              "\n",
              "     New recovered  Deaths / 100 Cases  Recovered / 100 Cases  \\\n",
              "183         169714                4.08                  56.16   \n",
              "184         228736                4.05                  56.61   \n",
              "185         219038                4.02                  57.07   \n",
              "186         134721                3.99                  57.18   \n",
              "187         174623                3.97                  57.45   \n",
              "\n",
              "     Deaths / 100 Recovered  No. of countries  \n",
              "183                    7.27               187  \n",
              "184                    7.16               187  \n",
              "185                    7.04               187  \n",
              "186                    6.98               187  \n",
              "187                    6.91               187  "
            ],
            "text/html": [
              "\n",
              "  <div id=\"df-d57cfdb2-d8b2-44ec-9827-770ff71435ab\">\n",
              "    <div class=\"colab-df-container\">\n",
              "      <div>\n",
              "<style scoped>\n",
              "    .dataframe tbody tr th:only-of-type {\n",
              "        vertical-align: middle;\n",
              "    }\n",
              "\n",
              "    .dataframe tbody tr th {\n",
              "        vertical-align: top;\n",
              "    }\n",
              "\n",
              "    .dataframe thead th {\n",
              "        text-align: right;\n",
              "    }\n",
              "</style>\n",
              "<table border=\"1\" class=\"dataframe\">\n",
              "  <thead>\n",
              "    <tr style=\"text-align: right;\">\n",
              "      <th></th>\n",
              "      <th>Date</th>\n",
              "      <th>Confirmed</th>\n",
              "      <th>Deaths</th>\n",
              "      <th>Recovered</th>\n",
              "      <th>Active</th>\n",
              "      <th>New cases</th>\n",
              "      <th>New deaths</th>\n",
              "      <th>New recovered</th>\n",
              "      <th>Deaths / 100 Cases</th>\n",
              "      <th>Recovered / 100 Cases</th>\n",
              "      <th>Deaths / 100 Recovered</th>\n",
              "      <th>No. of countries</th>\n",
              "    </tr>\n",
              "  </thead>\n",
              "  <tbody>\n",
              "    <tr>\n",
              "      <th>183</th>\n",
              "      <td>2020-07-23</td>\n",
              "      <td>15510481</td>\n",
              "      <td>633506</td>\n",
              "      <td>8710969</td>\n",
              "      <td>6166006</td>\n",
              "      <td>282756</td>\n",
              "      <td>9966</td>\n",
              "      <td>169714</td>\n",
              "      <td>4.08</td>\n",
              "      <td>56.16</td>\n",
              "      <td>7.27</td>\n",
              "      <td>187</td>\n",
              "    </tr>\n",
              "    <tr>\n",
              "      <th>184</th>\n",
              "      <td>2020-07-24</td>\n",
              "      <td>15791645</td>\n",
              "      <td>639650</td>\n",
              "      <td>8939705</td>\n",
              "      <td>6212290</td>\n",
              "      <td>281164</td>\n",
              "      <td>6144</td>\n",
              "      <td>228736</td>\n",
              "      <td>4.05</td>\n",
              "      <td>56.61</td>\n",
              "      <td>7.16</td>\n",
              "      <td>187</td>\n",
              "    </tr>\n",
              "    <tr>\n",
              "      <th>185</th>\n",
              "      <td>2020-07-25</td>\n",
              "      <td>16047190</td>\n",
              "      <td>644517</td>\n",
              "      <td>9158743</td>\n",
              "      <td>6243930</td>\n",
              "      <td>255545</td>\n",
              "      <td>4867</td>\n",
              "      <td>219038</td>\n",
              "      <td>4.02</td>\n",
              "      <td>57.07</td>\n",
              "      <td>7.04</td>\n",
              "      <td>187</td>\n",
              "    </tr>\n",
              "    <tr>\n",
              "      <th>186</th>\n",
              "      <td>2020-07-26</td>\n",
              "      <td>16251796</td>\n",
              "      <td>648621</td>\n",
              "      <td>9293464</td>\n",
              "      <td>6309711</td>\n",
              "      <td>204606</td>\n",
              "      <td>4104</td>\n",
              "      <td>134721</td>\n",
              "      <td>3.99</td>\n",
              "      <td>57.18</td>\n",
              "      <td>6.98</td>\n",
              "      <td>187</td>\n",
              "    </tr>\n",
              "    <tr>\n",
              "      <th>187</th>\n",
              "      <td>2020-07-27</td>\n",
              "      <td>16480485</td>\n",
              "      <td>654036</td>\n",
              "      <td>9468087</td>\n",
              "      <td>6358362</td>\n",
              "      <td>228693</td>\n",
              "      <td>5415</td>\n",
              "      <td>174623</td>\n",
              "      <td>3.97</td>\n",
              "      <td>57.45</td>\n",
              "      <td>6.91</td>\n",
              "      <td>187</td>\n",
              "    </tr>\n",
              "  </tbody>\n",
              "</table>\n",
              "</div>\n",
              "      <button class=\"colab-df-convert\" onclick=\"convertToInteractive('df-d57cfdb2-d8b2-44ec-9827-770ff71435ab')\"\n",
              "              title=\"Convert this dataframe to an interactive table.\"\n",
              "              style=\"display:none;\">\n",
              "        \n",
              "  <svg xmlns=\"http://www.w3.org/2000/svg\" height=\"24px\"viewBox=\"0 0 24 24\"\n",
              "       width=\"24px\">\n",
              "    <path d=\"M0 0h24v24H0V0z\" fill=\"none\"/>\n",
              "    <path d=\"M18.56 5.44l.94 2.06.94-2.06 2.06-.94-2.06-.94-.94-2.06-.94 2.06-2.06.94zm-11 1L8.5 8.5l.94-2.06 2.06-.94-2.06-.94L8.5 2.5l-.94 2.06-2.06.94zm10 10l.94 2.06.94-2.06 2.06-.94-2.06-.94-.94-2.06-.94 2.06-2.06.94z\"/><path d=\"M17.41 7.96l-1.37-1.37c-.4-.4-.92-.59-1.43-.59-.52 0-1.04.2-1.43.59L10.3 9.45l-7.72 7.72c-.78.78-.78 2.05 0 2.83L4 21.41c.39.39.9.59 1.41.59.51 0 1.02-.2 1.41-.59l7.78-7.78 2.81-2.81c.8-.78.8-2.07 0-2.86zM5.41 20L4 18.59l7.72-7.72 1.47 1.35L5.41 20z\"/>\n",
              "  </svg>\n",
              "      </button>\n",
              "      \n",
              "  <style>\n",
              "    .colab-df-container {\n",
              "      display:flex;\n",
              "      flex-wrap:wrap;\n",
              "      gap: 12px;\n",
              "    }\n",
              "\n",
              "    .colab-df-convert {\n",
              "      background-color: #E8F0FE;\n",
              "      border: none;\n",
              "      border-radius: 50%;\n",
              "      cursor: pointer;\n",
              "      display: none;\n",
              "      fill: #1967D2;\n",
              "      height: 32px;\n",
              "      padding: 0 0 0 0;\n",
              "      width: 32px;\n",
              "    }\n",
              "\n",
              "    .colab-df-convert:hover {\n",
              "      background-color: #E2EBFA;\n",
              "      box-shadow: 0px 1px 2px rgba(60, 64, 67, 0.3), 0px 1px 3px 1px rgba(60, 64, 67, 0.15);\n",
              "      fill: #174EA6;\n",
              "    }\n",
              "\n",
              "    [theme=dark] .colab-df-convert {\n",
              "      background-color: #3B4455;\n",
              "      fill: #D2E3FC;\n",
              "    }\n",
              "\n",
              "    [theme=dark] .colab-df-convert:hover {\n",
              "      background-color: #434B5C;\n",
              "      box-shadow: 0px 1px 3px 1px rgba(0, 0, 0, 0.15);\n",
              "      filter: drop-shadow(0px 1px 2px rgba(0, 0, 0, 0.3));\n",
              "      fill: #FFFFFF;\n",
              "    }\n",
              "  </style>\n",
              "\n",
              "      <script>\n",
              "        const buttonEl =\n",
              "          document.querySelector('#df-d57cfdb2-d8b2-44ec-9827-770ff71435ab button.colab-df-convert');\n",
              "        buttonEl.style.display =\n",
              "          google.colab.kernel.accessAllowed ? 'block' : 'none';\n",
              "\n",
              "        async function convertToInteractive(key) {\n",
              "          const element = document.querySelector('#df-d57cfdb2-d8b2-44ec-9827-770ff71435ab');\n",
              "          const dataTable =\n",
              "            await google.colab.kernel.invokeFunction('convertToInteractive',\n",
              "                                                     [key], {});\n",
              "          if (!dataTable) return;\n",
              "\n",
              "          const docLinkHtml = 'Like what you see? Visit the ' +\n",
              "            '<a target=\"_blank\" href=https://colab.research.google.com/notebooks/data_table.ipynb>data table notebook</a>'\n",
              "            + ' to learn more about interactive tables.';\n",
              "          element.innerHTML = '';\n",
              "          dataTable['output_type'] = 'display_data';\n",
              "          await google.colab.output.renderOutput(dataTable, element);\n",
              "          const docLink = document.createElement('div');\n",
              "          docLink.innerHTML = docLinkHtml;\n",
              "          element.appendChild(docLink);\n",
              "        }\n",
              "      </script>\n",
              "    </div>\n",
              "  </div>\n",
              "  "
            ]
          },
          "metadata": {},
          "execution_count": 273
        }
      ],
      "source": [
        "day_data= pd.read_csv(\"day_wise.csv\")\n",
        "day_data.tail()"
      ]
    },
    {
      "cell_type": "code",
      "source": [
        "death_data = day_data[\"Deaths\"]\n",
        "death_data.describe()\n",
        "dd = death_data\n",
        "print((df.describe()))"
      ],
      "metadata": {
        "colab": {
          "base_uri": "https://localhost:8080/"
        },
        "id": "ZkpahMZ2CyxJ",
        "outputId": "ef0113cd-77c7-4f9a-ce9e-a108e1d891bb"
      },
      "execution_count": 274,
      "outputs": [
        {
          "output_type": "stream",
          "name": "stdout",
          "text": [
            "          Confirmed         Deaths     Recovered        Active    New cases  \\\n",
            "count  3.515600e+04   35156.000000  3.515600e+04  3.515600e+04  35156.00000   \n",
            "mean   2.356663e+04    1234.068239  1.104813e+04  1.128443e+04    469.36375   \n",
            "std    1.499818e+05    7437.238354  6.454640e+04  8.997149e+04   3005.86754   \n",
            "min    0.000000e+00       0.000000  0.000000e+00 -2.000000e+00      0.00000   \n",
            "25%    1.000000e+00       0.000000  0.000000e+00  0.000000e+00      0.00000   \n",
            "50%    2.500000e+02       4.000000  3.300000e+01  8.500000e+01      2.00000   \n",
            "75%    3.640250e+03      78.250000  1.286250e+03  1.454000e+03     75.00000   \n",
            "max    4.290259e+06  148011.000000  1.846641e+06  2.816444e+06  77255.00000   \n",
            "\n",
            "         New deaths  New recovered  \n",
            "count  35156.000000   35156.000000  \n",
            "mean      18.603339     269.315593  \n",
            "std      115.706351    2068.063852  \n",
            "min    -1918.000000  -16298.000000  \n",
            "25%        0.000000       0.000000  \n",
            "50%        0.000000       0.000000  \n",
            "75%        1.000000      20.000000  \n",
            "max     3887.000000  140050.000000  \n"
          ]
        }
      ]
    },
    {
      "cell_type": "code",
      "source": [
        "#Visualisations"
      ],
      "metadata": {
        "id": "TXz0E0ztkmNK"
      },
      "execution_count": 275,
      "outputs": []
    },
    {
      "cell_type": "code",
      "source": [
        "df.plot(kind=\"scatter\", x=\"Recovered\", y=\"Deaths\", alpha=0.1)\n",
        "plt.title(\"Scatter spread of people who Recovered/ Died of Cov-19\")"
      ],
      "metadata": {
        "colab": {
          "base_uri": "https://localhost:8080/",
          "height": 316
        },
        "id": "d2WeecYrM2bl",
        "outputId": "fa1dda76-70bf-4a5a-ce60-f8f4913366af"
      },
      "execution_count": 276,
      "outputs": [
        {
          "output_type": "execute_result",
          "data": {
            "text/plain": [
              "Text(0.5, 1.0, 'Scatter spread of people who Recovered/ Died of Cov-19')"
            ]
          },
          "metadata": {},
          "execution_count": 276
        },
        {
          "output_type": "display_data",
          "data": {
            "text/plain": [
              "<Figure size 432x288 with 1 Axes>"
            ],
            "image/png": "[encoded data removed]"
          },
          "metadata": {
            "needs_background": "light"
          }
        }
      ]
    },
    {
      "cell_type": "code",
      "execution_count": 277,
      "metadata": {
        "colab": {
          "base_uri": "https://localhost:8080/",
          "height": 419
        },
        "id": "RAgDuQhQgngj",
        "outputId": "7ebbfd9a-296f-4826-98d9-c1bfa433bfa9"
      },
      "outputs": [
        {
          "output_type": "execute_result",
          "data": {
            "text/plain": [
              "Text(0, 0.5, 'Cases of those who recovered (based on Regional Daily data)')"
            ]
          },
          "metadata": {},
          "execution_count": 277
        },
        {
          "output_type": "display_data",
          "data": {
            "text/plain": [
              "<Figure size 720x360 with 1 Axes>"
            ],
            "image/png": "[encoded data removed]"
          },
          "metadata": {}
        }
      ],
      "source": [
        "#Spread of active cases and recovered cases based on region\n",
        "data = day_data[\"Active\"]\n",
        "recovered = day_data[\"Recovered\"]\n",
        "\n",
        "plt.style.use('ggplot')\n",
        "data.T.plot(kind='hist', color = \"orange\", figsize =(10,5))\n",
        "plt.hist(active, recovered, color = 'green')\n",
        "plt.xlabel('Active cases (based on Regional Daily data)')\n",
        "plt.ylabel('Cases of those who recovered (based on Regional Daily data)')\n"
      ]
    },
    {
      "cell_type": "code",
      "source": [
        "plt.pie(data)\n",
        "plt.title(\"Pie Chart of data from Dataframe\")\n",
        "plt.show()"
      ],
      "metadata": {
        "colab": {
          "base_uri": "https://localhost:8080/",
          "height": 265
        },
        "id": "xUjOTRzMnSF9",
        "outputId": "10ce762f-dfc5-430b-a940-bb25af2565a1"
      },
      "execution_count": 278,
      "outputs": [
        {
          "output_type": "display_data",
          "data": {
            "text/plain": [
              "<Figure size 432x288 with 1 Axes>"
            ],
            "image/png": "[encoded data removed]"
          },
          "metadata": {}
        }
      ]
    },
    {
      "cell_type": "code",
      "source": [
        "#Create some random Normally Distributed even set of data using Numpy to visualise 1000 \n",
        "#distributed values with a random seed value of 0 for consistency in the output\n",
        "\n",
        "np.random.seed(0)\n",
        "x = np.random.normal(size=1000)\n",
        "\n",
        "plt.hist(x, density=True, bins=300, color=\"orange\" , label= \"Spread of Cases\") \n",
        "plt.title(\"Normal Random Distribution of 1000 points \")\n",
        "plt.legend()\n",
        "plt.show()"
      ],
      "metadata": {
        "colab": {
          "base_uri": "https://localhost:8080/",
          "height": 282
        },
        "id": "sh1AdcmXa2v8",
        "outputId": "9b9f3bd4-7990-4744-b6bc-3f5e4a0db62e"
      },
      "execution_count": 279,
      "outputs": [
        {
          "output_type": "display_data",
          "data": {
            "text/plain": [
              "<Figure size 432x288 with 1 Axes>"
            ],
            "image/png": "[encoded data removed]"
          },
          "metadata": {}
        }
      ]
    },
    {
      "cell_type": "code",
      "execution_count": 280,
      "metadata": {
        "id": "b445LVdJgnVT"
      },
      "outputs": [],
      "source": [
        "#End of Document"
      ]
    },
    {
      "cell_type": "code",
      "execution_count": 281,
      "metadata": {
        "id": "TU5fFwI7gnFh"
      },
      "outputs": [],
      "source": [
        "#9:45am Friday"
      ]
    }
  ],
  "metadata": {
    "colab": {
      "collapsed_sections": [],
      "name": "austinFinal.ipynb",
      "provenance": [],
      "authorship_tag": "ABX9TyOrOteDDzqnFD5XQ13B+LsJ",
      "include_colab_link": true
    },
    "kernelspec": {
      "display_name": "Python 3",
      "name": "python3"
    },
    "language_info": {
      "name": "python"
    }
  },
  "nbformat": 4,
  "nbformat_minor": 0
}